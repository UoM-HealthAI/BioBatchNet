{
 "cells": [
  {
   "cell_type": "markdown",
   "metadata": {},
   "source": [
    "# BioBatchNet 使用教程\n",
    "\n",
    "BioBatchNet 是一个用于生物数据批次效应矫正的深度学习框架，支持单细胞RNA测序(scRNA-seq)和成像质谱流式(IMC)数据。\n",
    "\n",
    "本教程将介绍：\n",
    "1. 快速开始 - 使用简单API\n",
    "2. 高级使用 - 直接使用模型\n",
    "3. 自定义配置 - 调整模型架构和训练参数\n",
    "4. 实际案例演示"
   ]
  },
  {
   "cell_type": "markdown",
   "metadata": {},
   "source": [
    "## 1. 安装和导入"
   ]
  },
  {
   "cell_type": "code",
   "execution_count": null,
   "metadata": {},
   "outputs": [],
   "source": [
    "# 安装包 (如果还没安装)\n",
    "# !pip install biobatchnet\n",
    "\n",
    "# 或从源码安装\n",
    "# !git clone https://github.com/Manchester-HealthAI/BioBatchNet\n",
    "# !cd BioBatchNet && pip install -e ."
   ]
  },
  {
   "cell_type": "code",
   "execution_count": null,
   "metadata": {},
   "outputs": [],
   "source": [
    "# 导入必要的包\n",
    "import numpy as np\n",
    "import pandas as pd\n",
    "import torch\n",
    "import matplotlib.pyplot as plt\n",
    "import seaborn as sns\n",
    "from sklearn.decomposition import PCA\n",
    "from sklearn.preprocessing import StandardScaler\n",
    "\n",
    "# 导入BioBatchNet\n",
    "import biobatchnet\n",
    "from biobatchnet import correct_batch_effects, IMCVAE, GeneVAE\n",
    "\n",
    "print(f\"BioBatchNet版本: {biobatchnet.__version__}\")\n",
    "print(f\"PyTorch版本: {torch.__version__}\")\n",
    "print(f\"CUDA可用: {torch.cuda.is_available()}\")"
   ]
  },
  {
   "cell_type": "markdown",
   "metadata": {},
   "source": [
    "## 2. 准备示例数据"
   ]
  },
  {
   "cell_type": "code",
   "execution_count": null,
   "metadata": {},
   "outputs": [],
   "source": [
    "# 生成模拟数据用于演示\n",
    "np.random.seed(42)\n",
    "\n",
    "# 模拟IMC数据: 1000个细胞，40个蛋白标记，3个批次\n",
    "n_cells = 1000\n",
    "n_features = 40\n",
    "n_batches = 3\n",
    "\n",
    "# 生成基础数据\n",
    "base_data = np.random.randn(n_cells, n_features)\n",
    "\n",
    "# 添加批次效应\n",
    "batch_labels = np.random.choice(n_batches, n_cells)\n",
    "batch_effects = np.zeros_like(base_data)\n",
    "for i in range(n_batches):\n",
    "    batch_mask = batch_labels == i\n",
    "    # 每个批次添加不同的偏移\n",
    "    batch_effects[batch_mask] = np.random.randn(1, n_features) * 0.5\n",
    "\n",
    "# 最终数据 = 基础数据 + 批次效应\n",
    "data_with_batch = base_data + batch_effects\n",
    "\n",
    "# 转换为DataFrame\n",
    "data_df = pd.DataFrame(\n",
    "    data_with_batch, \n",
    "    columns=[f'Protein_{i+1}' for i in range(n_features)]\n",
    ")\n",
    "\n",
    "batch_df = pd.DataFrame({\n",
    "    'batch_id': batch_labels,\n",
    "    'cell_id': [f'cell_{i}' for i in range(n_cells)]\n",
    "})\n",
    "\n",
    "print(f\"数据形状: {data_df.shape}\")\n",
    "print(f\"批次分布: {np.bincount(batch_labels)}\")"
   ]
  },
  {
   "cell_type": "code",
   "execution_count": null,
   "metadata": {},
   "outputs": [],
   "source": [
    "# 可视化批次效应\n",
    "def plot_batch_effect(data, batch_labels, title):\n",
    "    \"\"\"使用PCA可视化批次效应\"\"\"\n",
    "    pca = PCA(n_components=2)\n",
    "    data_pca = pca.fit_transform(StandardScaler().fit_transform(data))\n",
    "    \n",
    "    plt.figure(figsize=(8, 6))\n",
    "    scatter = plt.scatter(data_pca[:, 0], data_pca[:, 1], \n",
    "                         c=batch_labels, cmap='viridis', alpha=0.6)\n",
    "    plt.colorbar(scatter, label='Batch')\n",
    "    plt.xlabel(f'PC1 ({pca.explained_variance_ratio_[0]:.2%})')\n",
    "    plt.ylabel(f'PC2 ({pca.explained_variance_ratio_[1]:.2%})')\n",
    "    plt.title(title)\n",
    "    plt.show()\n",
    "\n",
    "# 显示原始数据的批次效应\n",
    "plot_batch_effect(data_with_batch, batch_labels, '原始数据 (含批次效应)')"
   ]
  },
  {
   "cell_type": "markdown",
   "metadata": {},
   "source": [
    "## 3. 方法一：使用简单API (推荐)\n",
    "\n",
    "这是最简单的使用方式，适合大多数用户。"
   ]
  },
  {
   "cell_type": "code",
   "execution_count": null,
   "metadata": {},
   "outputs": [],
   "source": [
    "# 使用默认参数进行批次效应矫正\n",
    "bio_embeddings, batch_embeddings = correct_batch_effects(\n",
    "    data=data_df,           # 表达数据\n",
    "    batch_info=batch_df,    # 批次信息\n",
    "    batch_key='batch_id',   # 批次列名\n",
    "    data_type='imc',        # 数据类型: 'imc' 或 'scrna'\n",
    "    latent_dim=20,          # 潜在空间维度\n",
    "    epochs=100              # 训练轮数\n",
    ")\n",
    "\n",
    "print(f\"生物学嵌入形状: {bio_embeddings.shape}\")\n",
    "print(f\"批次嵌入形状: {batch_embeddings.shape}\")"
   ]
  },
  {
   "cell_type": "code",
   "execution_count": null,
   "metadata": {},
   "outputs": [],
   "source": [
    "# 可视化矫正后的数据\n",
    "plot_batch_effect(bio_embeddings, batch_labels, '矫正后的生物学嵌入')"
   ]
  },
  {
   "cell_type": "markdown",
   "metadata": {},
   "source": [
    "### 3.1 自定义损失权重\n",
    "\n",
    "根据数据特点调整各项损失的权重。"
   ]
  },
  {
   "cell_type": "code",
   "execution_count": null,
   "metadata": {},
   "outputs": [],
   "source": [
    "# 自定义损失权重\n",
    "custom_loss_weights = {\n",
    "    'recon_loss': 10,      # 重建损失权重\n",
    "    'discriminator': 0.3,   # 判别器损失权重\n",
    "    'classifier': 1,        # 分类器损失权重\n",
    "    'kl_loss_1': 0.005,    # KL散度损失1\n",
    "    'kl_loss_2': 0.1,      # KL散度损失2\n",
    "    'ortho_loss': 0.01     # 正交损失权重\n",
    "}\n",
    "\n",
    "bio_embeddings_custom, batch_embeddings_custom = correct_batch_effects(\n",
    "    data=data_df,\n",
    "    batch_info=batch_df,\n",
    "    batch_key='batch_id',\n",
    "    data_type='imc',\n",
    "    latent_dim=20,\n",
    "    epochs=100,\n",
    "    loss_weights=custom_loss_weights  # 使用自定义权重\n",
    ")\n",
    "\n",
    "print(\"使用自定义损失权重完成训练\")"
   ]
  },
  {
   "cell_type": "markdown",
   "metadata": {},
   "source": [
    "### 3.2 不同批次数量的自动参数调整\n",
    "\n",
    "API会根据批次数量自动调整参数。"
   ]
  },
  {
   "cell_type": "code",
   "execution_count": null,
   "metadata": {},
   "outputs": [],
   "source": [
    "# 模拟不同批次数量的数据\n",
    "def test_different_batch_counts():\n",
    "    for n_batches in [3, 15, 35]:\n",
    "        # 创建测试数据\n",
    "        test_batch_labels = np.random.choice(n_batches, n_cells)\n",
    "        test_batch_df = pd.DataFrame({'batch_id': test_batch_labels})\n",
    "        \n",
    "        print(f\"\\n批次数量: {n_batches}\")\n",
    "        print(\"API将自动选择合适的损失权重\")\n",
    "        \n",
    "        # API会自动调整参数\n",
    "        bio_emb, batch_emb = correct_batch_effects(\n",
    "            data=data_df,\n",
    "            batch_info=test_batch_df,\n",
    "            data_type='imc',\n",
    "            epochs=50  # 减少轮数以加快演示\n",
    "        )\n",
    "        \n",
    "        print(f\"完成! 嵌入维度: {bio_emb.shape}\")\n",
    "\n",
    "# test_different_batch_counts()  # 取消注释以运行"
   ]
  },
  {
   "cell_type": "markdown",
   "metadata": {},
   "source": [
    "## 4. 方法二：直接使用模型 (高级)\n",
    "\n",
    "直接使用模型类，获得更多控制权。"
   ]
  },
  {
   "cell_type": "code",
   "execution_count": null,
   "metadata": {},
   "outputs": [],
   "source": [
    "# 创建IMCVAE模型实例\n",
    "model = IMCVAE(\n",
    "    in_sz=n_features,                              # 输入维度\n",
    "    out_sz=n_features,                             # 输出维度\n",
    "    latent_sz=20,                                  # 潜在空间维度\n",
    "    num_batch=n_batches,                           # 批次数量\n",
    "    bio_encoder_hidden_layers=[512, 1024, 1024],   # 生物编码器架构\n",
    "    batch_encoder_hidden_layers=[256],             # 批次编码器架构\n",
    "    decoder_hidden_layers=[1024, 1024, 512],       # 解码器架构\n",
    "    batch_classifier_layers_power=[512, 1024, 1024], # 强分类器架构\n",
    "    batch_classifier_layers_weak=[128]             # 弱分类器架构\n",
    ")\n",
    "\n",
    "print(f\"模型参数数量: {sum(p.numel() for p in model.parameters()):,}\")"
   ]
  },
  {
   "cell_type": "code",
   "execution_count": null,
   "metadata": {},
   "outputs": [],
   "source": [
    "# 训练模型\n",
    "model.fit(\n",
    "    data=data_df.values,\n",
    "    batch_info=batch_labels,\n",
    "    epochs=100,\n",
    "    lr=1e-3,\n",
    "    batch_size=256,\n",
    "    device='cuda' if torch.cuda.is_available() else 'cpu'\n",
    ")\n",
    "\n",
    "print(\"模型训练完成\")"
   ]
  },
  {
   "cell_type": "code",
   "execution_count": null,
   "metadata": {},
   "outputs": [],
   "source": [
    "# 获取矫正后的嵌入\n",
    "bio_embeddings_direct = model.get_bio_embeddings(data_df.values)\n",
    "print(f\"生物学嵌入形状: {bio_embeddings_direct.shape}\")\n",
    "\n",
    "# 或者同时获取生物学和批次嵌入\n",
    "bio_emb, batch_emb = model.correct_batch_effects(data_df.values)\n",
    "print(f\"生物学嵌入: {bio_emb.shape}, 批次嵌入: {batch_emb.shape}\")"
   ]
  },
  {
   "cell_type": "markdown",
   "metadata": {},
   "source": [
    "## 5. 方法三：使用GeneVAE处理scRNA-seq数据\n",
    "\n",
    "GeneVAE专门设计用于单细胞RNA测序数据。"
   ]
  },
  {
   "cell_type": "code",
   "execution_count": null,
   "metadata": {},
   "outputs": [],
   "source": [
    "# 模拟scRNA-seq数据\n",
    "n_cells_rna = 5000\n",
    "n_genes = 2000\n",
    "n_batches_rna = 4\n",
    "\n",
    "# 生成稀疏的基因表达数据（模拟dropout）\n",
    "rna_data = np.random.negative_binomial(5, 0.3, size=(n_cells_rna, n_genes))\n",
    "rna_data = rna_data.astype(np.float32)\n",
    "\n",
    "# 添加批次效应\n",
    "rna_batch_labels = np.random.choice(n_batches_rna, n_cells_rna)\n",
    "for i in range(n_batches_rna):\n",
    "    mask = rna_batch_labels == i\n",
    "    rna_data[mask] *= np.random.uniform(0.8, 1.2)  # 批次特异性缩放\n",
    "\n",
    "print(f\"scRNA-seq数据形状: {rna_data.shape}\")\n",
    "print(f\"零值比例: {(rna_data == 0).mean():.2%}\")"
   ]
  },
  {
   "cell_type": "code",
   "execution_count": null,
   "metadata": {},
   "outputs": [],
   "source": [
    "# 使用API处理scRNA-seq数据\n",
    "bio_emb_rna, batch_emb_rna = correct_batch_effects(\n",
    "    data=rna_data,\n",
    "    batch_info=rna_batch_labels,\n",
    "    data_type='scrna',  # 指定为scRNA-seq数据\n",
    "    latent_dim=30,      # 通常scRNA需要更高的潜在维度\n",
    "    epochs=100\n",
    ")\n",
    "\n",
    "print(f\"scRNA嵌入形状: {bio_emb_rna.shape}\")"
   ]
  },
  {
   "cell_type": "code",
   "execution_count": null,
   "metadata": {},
   "outputs": [],
   "source": [
    "# 直接使用GeneVAE模型\n",
    "gene_model = GeneVAE(\n",
    "    in_sz=n_genes,\n",
    "    out_sz=n_genes,\n",
    "    latent_sz=30,\n",
    "    num_batch=n_batches_rna,\n",
    "    bio_encoder_hidden_layers=[500, 2000, 2000],   # 默认scRNA架构\n",
    "    batch_encoder_hidden_layers=[500],\n",
    "    decoder_hidden_layers=[2000, 2000, 500],\n",
    "    batch_classifier_layers_power=[500, 2000, 2000],\n",
    "    batch_classifier_layers_weak=[128]\n",
    ")\n",
    "\n",
    "# 自定义scRNA-seq的损失权重\n",
    "scrna_loss_weights = {\n",
    "    'recon_loss': 10,\n",
    "    'discriminator': 0.04,\n",
    "    'classifier': 1,\n",
    "    'kl_loss_1': 1e-7,\n",
    "    'kl_loss_2': 0.01,\n",
    "    'ortho_loss': 0.0002,\n",
    "    'mmd_loss_1': 0,\n",
    "    'kl_loss_size': 0.002  # scRNA特有的size factor KL损失\n",
    "}\n",
    "\n",
    "gene_model.fit(\n",
    "    data=rna_data,\n",
    "    batch_info=rna_batch_labels,\n",
    "    epochs=100,\n",
    "    loss_weights=scrna_loss_weights\n",
    ")\n",
    "\n",
    "print(\"GeneVAE模型训练完成\")"
   ]
  },
  {
   "cell_type": "markdown",
   "metadata": {},
   "source": [
    "## 6. 高级配置和调参技巧"
   ]
  },
  {
   "cell_type": "code",
   "execution_count": null,
   "metadata": {},
   "outputs": [],
   "source": [
    "# 高级配置示例\n",
    "advanced_config = {\n",
    "    # 数据参数\n",
    "    'data': data_df,\n",
    "    'batch_info': batch_df,\n",
    "    'batch_key': 'batch_id',\n",
    "    'data_type': 'imc',\n",
    "    \n",
    "    # 模型架构参数\n",
    "    'latent_dim': 25,\n",
    "    'bio_encoder_hidden_layers': [256, 512, 512],  # 自定义编码器架构\n",
    "    'batch_encoder_hidden_layers': [128, 128],     # 两层批次编码器\n",
    "    'decoder_hidden_layers': [512, 512, 256],      # 自定义解码器\n",
    "    \n",
    "    # 训练参数\n",
    "    'epochs': 150,\n",
    "    'lr': 5e-4,           # 学习率\n",
    "    'batch_size': 128,    # 批次大小\n",
    "    \n",
    "    # 损失权重\n",
    "    'loss_weights': {\n",
    "        'recon_loss': 15,\n",
    "        'discriminator': 0.2,\n",
    "        'classifier': 1.5,\n",
    "        'kl_loss_1': 0.001,\n",
    "        'kl_loss_2': 0.05,\n",
    "        'ortho_loss': 0.02\n",
    "    }\n",
    "}\n",
    "\n",
    "# 使用高级配置\n",
    "bio_emb_advanced, batch_emb_advanced = correct_batch_effects(**advanced_config)\n",
    "print(\"高级配置训练完成\")"
   ]
  },
  {
   "cell_type": "markdown",
   "metadata": {},
   "source": [
    "## 7. 批次效应矫正效果评估"
   ]
  },
  {
   "cell_type": "code",
   "execution_count": null,
   "metadata": {},
   "outputs": [],
   "source": [
    "from sklearn.metrics import silhouette_score\n",
    "from scipy.stats import f_oneway\n",
    "\n",
    "def evaluate_batch_correction(original_data, corrected_data, batch_labels):\n",
    "    \"\"\"\n",
    "    评估批次效应矫正的效果\n",
    "    \"\"\"\n",
    "    # 1. 轮廓系数 (越小表示批次混合越好)\n",
    "    sil_original = silhouette_score(original_data, batch_labels)\n",
    "    sil_corrected = silhouette_score(corrected_data, batch_labels)\n",
    "    \n",
    "    print(f\"轮廓系数 (批次分离度，越小越好):\")\n",
    "    print(f\"  原始数据: {sil_original:.4f}\")\n",
    "    print(f\"  矫正后: {sil_corrected:.4f}\")\n",
    "    print(f\"  改善: {(sil_original - sil_corrected) / sil_original * 100:.1f}%\\n\")\n",
    "    \n",
    "    # 2. ANOVA F统计量 (越小表示批次差异越小)\n",
    "    groups_original = [original_data[batch_labels == i] for i in range(len(np.unique(batch_labels)))]\n",
    "    groups_corrected = [corrected_data[batch_labels == i] for i in range(len(np.unique(batch_labels)))]\n",
    "    \n",
    "    # 计算前5个特征的F统计量\n",
    "    f_stats_original = []\n",
    "    f_stats_corrected = []\n",
    "    \n",
    "    n_features_to_test = min(5, original_data.shape[1])\n",
    "    for i in range(n_features_to_test):\n",
    "        f_orig, _ = f_oneway(*[g[:, i] for g in groups_original])\n",
    "        f_corr, _ = f_oneway(*[g[:, i] for g in groups_corrected])\n",
    "        f_stats_original.append(f_orig)\n",
    "        f_stats_corrected.append(f_corr)\n",
    "    \n",
    "    print(f\"平均F统计量 (批次间差异，越小越好):\")\n",
    "    print(f\"  原始数据: {np.mean(f_stats_original):.4f}\")\n",
    "    print(f\"  矫正后: {np.mean(f_stats_corrected):.4f}\")\n",
    "    print(f\"  改善: {(np.mean(f_stats_original) - np.mean(f_stats_corrected)) / np.mean(f_stats_original) * 100:.1f}%\")\n",
    "    \n",
    "    return sil_corrected, np.mean(f_stats_corrected)\n",
    "\n",
    "# 评估矫正效果\n",
    "print(\"=\" * 50)\n",
    "print(\"批次效应矫正效果评估\")\n",
    "print(\"=\" * 50)\n",
    "evaluate_batch_correction(data_with_batch, bio_embeddings, batch_labels)"
   ]
  },
  {
   "cell_type": "markdown",
   "metadata": {},
   "source": [
    "## 8. 可视化对比"
   ]
  },
  {
   "cell_type": "code",
   "execution_count": null,
   "metadata": {},
   "outputs": [],
   "source": [
    "# 创建对比可视化\n",
    "fig, axes = plt.subplots(1, 2, figsize=(15, 6))\n",
    "\n",
    "# 原始数据PCA\n",
    "pca_original = PCA(n_components=2)\n",
    "data_pca_original = pca_original.fit_transform(StandardScaler().fit_transform(data_with_batch))\n",
    "\n",
    "# 矫正后数据PCA\n",
    "pca_corrected = PCA(n_components=2)\n",
    "data_pca_corrected = pca_corrected.fit_transform(StandardScaler().fit_transform(bio_embeddings))\n",
    "\n",
    "# 绘制原始数据\n",
    "scatter1 = axes[0].scatter(data_pca_original[:, 0], data_pca_original[:, 1],\n",
    "                           c=batch_labels, cmap='viridis', alpha=0.6, s=20)\n",
    "axes[0].set_xlabel(f'PC1 ({pca_original.explained_variance_ratio_[0]:.2%})')\n",
    "axes[0].set_ylabel(f'PC2 ({pca_original.explained_variance_ratio_[1]:.2%})')\n",
    "axes[0].set_title('原始数据 (含批次效应)')\n",
    "axes[0].legend(*scatter1.legend_elements(), title=\"批次\", loc=\"best\")\n",
    "\n",
    "# 绘制矫正后数据\n",
    "scatter2 = axes[1].scatter(data_pca_corrected[:, 0], data_pca_corrected[:, 1],\n",
    "                           c=batch_labels, cmap='viridis', alpha=0.6, s=20)\n",
    "axes[1].set_xlabel(f'PC1 ({pca_corrected.explained_variance_ratio_[0]:.2%})')\n",
    "axes[1].set_ylabel(f'PC2 ({pca_corrected.explained_variance_ratio_[1]:.2%})')\n",
    "axes[1].set_title('BioBatchNet矫正后')\n",
    "axes[1].legend(*scatter2.legend_elements(), title=\"批次\", loc=\"best\")\n",
    "\n",
    "plt.suptitle('批次效应矫正前后对比', fontsize=16, y=1.02)\n",
    "plt.tight_layout()\n",
    "plt.show()"
   ]
  },
  {
   "cell_type": "markdown",
   "metadata": {},
   "source": [
    "## 9. 保存和加载模型"
   ]
  },
  {
   "cell_type": "code",
   "execution_count": null,
   "metadata": {},
   "outputs": [],
   "source": [
    "# 保存训练好的模型\n",
    "model_path = 'biobatchnet_model.pt'\n",
    "torch.save({\n",
    "    'model_state_dict': model.state_dict(),\n",
    "    'model_config': {\n",
    "        'in_sz': n_features,\n",
    "        'out_sz': n_features,\n",
    "        'latent_sz': 20,\n",
    "        'num_batch': n_batches,\n",
    "        'bio_encoder_hidden_layers': [512, 1024, 1024],\n",
    "        'batch_encoder_hidden_layers': [256],\n",
    "        'decoder_hidden_layers': [1024, 1024, 512],\n",
    "        'batch_classifier_layers_power': [512, 1024, 1024],\n",
    "        'batch_classifier_layers_weak': [128]\n",
    "    }\n",
    "}, model_path)\n",
    "\n",
    "print(f\"模型已保存到 {model_path}\")"
   ]
  },
  {
   "cell_type": "code",
   "execution_count": null,
   "metadata": {},
   "outputs": [],
   "source": [
    "# 加载模型\n",
    "checkpoint = torch.load(model_path, map_location='cpu')\n",
    "config = checkpoint['model_config']\n",
    "\n",
    "# 重新创建模型\n",
    "loaded_model = IMCVAE(**config)\n",
    "loaded_model.load_state_dict(checkpoint['model_state_dict'])\n",
    "loaded_model.eval()\n",
    "\n",
    "print(\"模型加载成功\")\n",
    "\n",
    "# 使用加载的模型进行预测\n",
    "with torch.no_grad():\n",
    "    bio_emb_loaded = loaded_model.get_bio_embeddings(data_df.values)\n",
    "    print(f\"加载模型的预测结果形状: {bio_emb_loaded.shape}\")"
   ]
  },
  {
   "cell_type": "markdown",
   "metadata": {},
   "source": [
    "## 10. 常见问题和调参建议\n",
    "\n",
    "### 10.1 如何选择潜在维度（latent_dim）？\n",
    "- IMC数据：通常15-25维\n",
    "- scRNA-seq数据：通常20-50维\n",
    "- 可以通过交叉验证选择最佳值\n",
    "\n",
    "### 10.2 损失权重调整策略\n",
    "- **recon_loss**: 重建质量，通常设为10\n",
    "- **discriminator**: 批次混合程度，批次多时降低(0.1-0.3)\n",
    "- **classifier**: 批次信息保留，通常设为1\n",
    "- **kl_loss**: 正则化强度，过拟合时增加\n",
    "- **ortho_loss**: 正交性约束，保持默认即可\n",
    "\n",
    "### 10.3 训练不稳定怎么办？\n",
    "- 降低学习率\n",
    "- 减小batch_size\n",
    "- 调整损失权重\n",
    "- 增加训练轮数\n",
    "\n",
    "### 10.4 内存不足怎么办？\n",
    "- 减小batch_size\n",
    "- 使用CPU训练：device='cpu'\n",
    "- 降低模型复杂度（减少隐藏层节点数）"
   ]
  },
  {
   "cell_type": "markdown",
   "metadata": {},
   "source": [
    "## 11. 实际数据示例（使用AnnData）"
   ]
  },
  {
   "cell_type": "code",
   "execution_count": null,
   "metadata": {},
   "outputs": [],
   "source": [
    "# 如果有实际的h5ad文件\n",
    "import anndata as ad\n",
    "\n",
    "# 示例：加载和处理实际数据\n",
    "\"\"\"\n",
    "# 加载AnnData对象\n",
    "adata = ad.read_h5ad('your_data.h5ad')\n",
    "\n",
    "# 提取数据和批次信息\n",
    "if hasattr(adata.X, 'toarray'):\n",
    "    X = adata.X.toarray()  # 如果是稀疏矩阵\n",
    "else:\n",
    "    X = adata.X\n",
    "\n",
    "batch_labels = adata.obs['batch'].values\n",
    "\n",
    "# 批次效应矫正\n",
    "bio_embeddings, _ = correct_batch_effects(\n",
    "    data=X,\n",
    "    batch_info=batch_labels,\n",
    "    data_type='scrna',  # 或 'imc'\n",
    "    epochs=200\n",
    ")\n",
    "\n",
    "# 将结果存回AnnData\n",
    "adata.obsm['X_biobatchnet'] = bio_embeddings\n",
    "\n",
    "# 保存结果\n",
    "adata.write('corrected_data.h5ad')\n",
    "\"\"\"\n",
    "\n",
    "print(\"实际数据处理流程示例（需要提供h5ad文件）\")"
   ]
  },
  {
   "cell_type": "markdown",
   "metadata": {},
   "source": [
    "## 总结\n",
    "\n",
    "BioBatchNet提供了灵活的批次效应矫正方案：\n",
    "\n",
    "1. **简单API** (`correct_batch_effects`): 适合快速使用，自动参数选择\n",
    "2. **模型类** (`IMCVAE`, `GeneVAE`): 提供更多控制，适合高级用户\n",
    "3. **自定义配置**: 可以调整模型架构、损失权重等参数\n",
    "\n",
    "### 主要特点：\n",
    "- 支持IMC和scRNA-seq两种数据类型\n",
    "- 自动根据批次数量调整参数\n",
    "- 可自定义模型架构和训练参数\n",
    "- 提供生物学和批次两种嵌入输出\n",
    "\n",
    "### 最佳实践：\n",
    "1. 先使用默认参数尝试\n",
    "2. 根据结果调整损失权重\n",
    "3. 必要时调整模型架构\n",
    "4. 使用评估指标验证效果\n",
    "\n",
    "更多信息请参考：\n",
    "- GitHub: https://github.com/Manchester-HealthAI/BioBatchNet\n",
    "- 文档: USAGE.md"
   ]
  }
 ],
 "metadata": {
  "kernelspec": {
   "display_name": "Python 3",
   "language": "python",
   "name": "python3"
  },
  "language_info": {
   "codemirror_mode": {
    "name": "ipython",
    "version": 3
   },
   "file_extension": ".py",
   "mimetype": "text/x-python",
   "name": "python",
   "nbconvert_exporter": "python",
   "pygments_lexer": "ipython3",
   "version": "3.9.0"
  }
 },
 "nbformat": 4,
 "nbformat_minor": 4
}